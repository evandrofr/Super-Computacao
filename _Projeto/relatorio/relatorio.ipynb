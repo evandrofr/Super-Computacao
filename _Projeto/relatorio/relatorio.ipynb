{
 "metadata": {
  "language_info": {
   "codemirror_mode": {
    "name": "ipython",
    "version": 3
   },
   "file_extension": ".py",
   "mimetype": "text/x-python",
   "name": "python",
   "nbconvert_exporter": "python",
   "pygments_lexer": "ipython3",
   "version": "3.8.5"
  },
  "orig_nbformat": 2,
  "kernelspec": {
   "name": "python385jvsc74a57bd031f2aee4e71d21fbe5cf8b01ff0e069b9275f58929596ceb00d14d90e3e16cd6",
   "display_name": "Python 3.8.5 64-bit"
  }
 },
 "nbformat": 4,
 "nbformat_minor": 2,
 "cells": [
  {
   "source": [
    "# Relatório"
   ],
   "cell_type": "markdown",
   "metadata": {}
  },
  {
   "cell_type": "code",
   "execution_count": 22,
   "metadata": {},
   "outputs": [],
   "source": [
    "import subprocess\n",
    "import time\n",
    "import matplotlib.pyplot as plt\n",
    "\n",
    "def roda_com_entrada(executavel, arquivo_in):\n",
    "    with open(f'{arquivo_in}') as f:\n",
    "        start = time.perf_counter()\n",
    "        proc = subprocess.run([executavel], input=f.read(), text=True, capture_output=True)\n",
    "        end = time.perf_counter()\n",
    "\n",
    "    return (proc.stdout or proc.stderr, end-start)"
   ]
  },
  {
   "cell_type": "code",
   "execution_count": 23,
   "metadata": {},
   "outputs": [
    {
     "output_type": "stream",
     "name": "stdout",
     "text": [
      "[0.010238585993647575, 0.007533371914178133, 0.008781316224485636, 0.007050099782645702, 0.19259455893188715, 0.010071893222630024]\n"
     ]
    }
   ],
   "source": [
    "lista_tempo_global = []\n",
    "for i in range(1,7):\n",
    "    res, tempo = roda_com_entrada('./algoritmos/global', f'./testes/in{i}.txt')\n",
    "    lista_tempo_global.append(tempo)\n",
    "print(lista_tempo_global)"
   ]
  },
  {
   "cell_type": "code",
   "execution_count": 24,
   "metadata": {},
   "outputs": [
    {
     "output_type": "stream",
     "name": "stdout",
     "text": [
      "[0.0438137031160295, 0.11883639311417937, 0.03998655918985605, 0.07084147073328495, 0.1358375702984631, 0.07034181244671345, 0.16828428488224745, 0.2882692739367485, 5.947988165076822, 5.488545340951532, 8.767435200046748, 12.324622627813369]\n"
     ]
    }
   ],
   "source": [
    "lista_tempo_local = []\n",
    "for i in range(1,13):\n",
    "    res, tempo = roda_com_entrada('./algoritmos/local', f'./testes/in{i}.txt')\n",
    "    lista_tempo_local.append(tempo)\n",
    "print(lista_tempo_local)"
   ]
  },
  {
   "cell_type": "code",
   "execution_count": 25,
   "metadata": {},
   "outputs": [
    {
     "output_type": "stream",
     "name": "stdout",
     "text": [
      "[0.006523918826133013, 0.004445449914783239, 0.007833885960280895, 0.005143359769135714, 0.004890551324933767, 0.007452238816767931, 0.007599811069667339, 0.004799150861799717, 0.004230231046676636, 0.007755350321531296, 0.008511731401085854, 0.008728981018066406]\n"
     ]
    }
   ],
   "source": [
    "lista_tempo_heuristico = []\n",
    "for i in range(1,13):\n",
    "    res, tempo = roda_com_entrada('./algoritmos/heuristico', f'./testes/in{i}.txt')\n",
    "    lista_tempo_heuristico.append(tempo)\n",
    "print(lista_tempo_heuristico)"
   ]
  },
  {
   "cell_type": "code",
   "execution_count": 27,
   "metadata": {},
   "outputs": [
    {
     "output_type": "stream",
     "name": "stdout",
     "text": [
      "['3', '10', '3', '5', '10', '13', '15']\n['2', '2', '3', '3', '4', '5', '8']\n"
     ]
    }
   ],
   "source": [
    "# lista_tamanhos = [] # 0 objetos / 1 pessoas\n",
    "lista_tamanhos_objetos = []\n",
    "lista_tamanhos_pessoas = []\n",
    "for i in range(1,8):\n",
    "    with open(f'../heuristico/in{i}.txt') as f:\n",
    "        linhas = f.readline()\n",
    "        linhas = linhas.split()\n",
    "        lista_tamanhos_objetos.append(linhas[0])\n",
    "        lista_tamanhos_pessoas.append(linhas[1])\n",
    "print(lista_tamanhos_objetos)\n",
    "print(lista_tamanhos_pessoas)"
   ]
  },
  {
   "cell_type": "code",
   "execution_count": null,
   "metadata": {},
   "outputs": [],
   "source": [
    "plt.plot(lista_tamanhos, lista_tempo)\n",
    "plt.show()"
   ]
  }
 ]
}